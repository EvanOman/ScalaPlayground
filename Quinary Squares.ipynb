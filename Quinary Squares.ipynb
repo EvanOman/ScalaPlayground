{
 "cells": [
  {
   "cell_type": "code",
   "execution_count": 1,
   "metadata": {
    "collapsed": false
   },
   "outputs": [],
   "source": [
    "import numpy as np\n",
    "import math\n",
    "import gmpy\n",
    "import time\n",
    "\n",
    "# returns all of the perfect squares w/ only 0/1 digits in base n\n",
    "def gen01SqBaseN(n=5, searchMax=2**32):\n",
    "    \n",
    "    # need to find greatest n such that 5^n < searchMax\n",
    "    maxN = math.floor(math.log(searchMax, n))\n",
    "    \n",
    "    # TODO: probably don't want to be allocating an array for base n < 5ish (depending on available RAM)\n",
    "    zeroOne = np.zeros(2**maxN, dtype=np.int)\n",
    "    \n",
    "    # Set the seed values\n",
    "    zeroOne[0] = 0\n",
    "    zeroOne[1] = 1\n",
    "    \n",
    "    # used to store the output\n",
    "    squares = np.array([0,1], dtype=np.int)\n",
    "    \n",
    "    # loop over the most significant digit\n",
    "    for exp in range(2, maxN):\n",
    "        # significant digit value for this number of digits\n",
    "            # 10000...n 0s...0\n",
    "        sigDig = n**exp\n",
    "        \n",
    "        # nu,ber of checked numbers so far (we double this each iter)\n",
    "        checkedNums = 2**(exp-1) \n",
    "        \n",
    "        # loop over all combinations of lower digits\n",
    "        #   100 + 0 = 100, 100  + 1 = 101, 100 + 11 = 111, 100 + 10 = 110\n",
    "        for offset in range(0, checkedNums):\n",
    "            # create a new zero/one number\n",
    "            newNum = zeroOne[offset] + sigDig\n",
    "            \n",
    "            # if it is square, add to the putput\n",
    "            if gmpy.is_square(newNum.item()):\n",
    "                squares = np.append(squares, newNum)\n",
    "            \n",
    "            # add to zero/one list for future use\n",
    "            zeroOne[checkedNums + offset] = newNum\n",
    "    return squares"
   ]
  },
  {
   "cell_type": "code",
   "execution_count": 3,
   "metadata": {
    "collapsed": false
   },
   "outputs": [
    {
     "name": "stdout",
     "output_type": "stream",
     "text": [
      "Took 5.446416494999999 seconds\n"
     ]
    }
   ],
   "source": [
    "t = time.process_time()\n",
    "\n",
    "sq = gen01SqBaseN(searchMax=2**55)\n",
    "\n",
    "elapsed_time = time.process_time() - t\n",
    "\n",
    "print(\"Took {0} seconds\".format(elapsed_time))"
   ]
  },
  {
   "cell_type": "code",
   "execution_count": 4,
   "metadata": {
    "collapsed": false
   },
   "outputs": [
    {
     "data": {
      "text/plain": [
       "array([               0,                1,               25,\n",
       "                    625,            15625,           390625,\n",
       "                9765625,        244140625,       6103515625,\n",
       "           152587890625,     946337894401,    3814697265625,\n",
       "         23658447360025,   95367431640625,  591461184000625,\n",
       "       2384185791015625])"
      ]
     },
     "execution_count": 4,
     "metadata": {},
     "output_type": "execute_result"
    }
   ],
   "source": [
    "sq"
   ]
  }
 ],
 "metadata": {
  "kernelspec": {
   "display_name": "Python 3",
   "language": "python",
   "name": "python3"
  },
  "language_info": {
   "codemirror_mode": {
    "name": "ipython",
    "version": 3
   },
   "file_extension": ".py",
   "mimetype": "text/x-python",
   "name": "python",
   "nbconvert_exporter": "python",
   "pygments_lexer": "ipython3",
   "version": "3.4.5"
  }
 },
 "nbformat": 4,
 "nbformat_minor": 0
}
