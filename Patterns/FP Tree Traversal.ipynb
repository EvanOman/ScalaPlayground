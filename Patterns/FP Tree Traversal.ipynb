{
 "cells": [
  {
   "cell_type": "markdown",
   "metadata": {},
   "source": [
    "# FP Tree Traversal\n",
    "\n",
    "From [this SO answer](http://stackoverflow.com/a/41350143/266149)\n",
    "\n",
    "> One nice thing about functional programming is you can take advantage of laziness to separate the traversal of your data structure from the searching part. This makes for very reusable, single responsibility code:\n",
    "\n",
    "### Implementation"
   ]
  },
  {
   "cell_type": "code",
   "execution_count": 1,
   "metadata": {
    "collapsed": false
   },
   "outputs": [
    {
     "data": {
      "text/plain": [
       "\u001b[32mimport \u001b[39m\u001b[36mscala.collection.immutable.Queue\n",
       "\n",
       "\u001b[39m\n",
       "defined \u001b[32mfunction\u001b[39m \u001b[36mbreadth_first_traverse\u001b[39m"
      ]
     },
     "execution_count": 1,
     "metadata": {},
     "output_type": "execute_result"
    }
   ],
   "source": [
    "import scala.collection.immutable.Queue\n",
    "\n",
    "def breadth_first_traverse[Node](node: Node, f: Node => Seq[Node]): Stream[Node] = {\n",
    "\tdef recurse(q: Queue[Node]): Stream[Node] = {\n",
    "\t\tif (q.isEmpty) {\n",
    "\t\t\tStream.Empty\n",
    "\t\t} else {\n",
    "\t\t\tval (node, tail) = q.dequeue\n",
    "\t\t\tnode #:: recurse(tail ++ f(node))\n",
    "\t\t}\n",
    "\t}\n",
    "\n",
    "\tnode #:: recurse(Queue.empty ++ f(node))\n",
    "}"
   ]
  },
  {
   "cell_type": "markdown",
   "metadata": {},
   "source": [
    "## Example Usage\n",
    "\n",
    "### Sample Tree\n",
    "\n",
    "Lets model the following Tree:\n",
    "\n",
    "```\n",
    "        2\n",
    "    /   |   \\\n",
    "  1     7     3\n",
    "            /   \\\n",
    "           6     4\n",
    "                 |\n",
    "                 5\n",
    "```"
   ]
  },
  {
   "cell_type": "code",
   "execution_count": 2,
   "metadata": {
    "collapsed": false
   },
   "outputs": [
    {
     "data": {
      "text/plain": [
       "defined \u001b[32mclass\u001b[39m \u001b[36mNode\u001b[39m\n",
       "\u001b[36mone\u001b[39m: \u001b[32mNode\u001b[39m = Node(1,List())\n",
       "\u001b[36mfive\u001b[39m: \u001b[32mNode\u001b[39m = Node(5,List())\n",
       "\u001b[36msix\u001b[39m: \u001b[32mNode\u001b[39m = Node(6,List())\n",
       "\u001b[36mseven\u001b[39m: \u001b[32mNode\u001b[39m = Node(7,List())\n",
       "\u001b[36mfour\u001b[39m: \u001b[32mNode\u001b[39m = Node(4,List(Node(5,List())))\n",
       "\u001b[36mthree\u001b[39m: \u001b[32mNode\u001b[39m = Node(3,List(Node(6,List()), Node(4,List(Node(5,List())))))\n",
       "\u001b[36mtwo\u001b[39m: \u001b[32mNode\u001b[39m = Node(2,List(Node(1,List()), Node(3,List(Node(6,List()), Node(4,List(Node(5,List()))))), Node(7,List())))"
      ]
     },
     "execution_count": 2,
     "metadata": {},
     "output_type": "execute_result"
    }
   ],
   "source": [
    "case class Node(value: Int, children: Seq[Node])\n",
    "\n",
    "val one   = Node(1, Seq.empty[Node])\n",
    "val five  = Node(5, Seq.empty[Node])\n",
    "val six   = Node(6, Seq.empty[Node])\n",
    "val seven = Node(7, Seq.empty[Node])\n",
    "val four  = Node(4, Seq(five))\n",
    "val three = Node(3, Seq(six, four))\n",
    "val two   = Node(2, Seq(one, three, seven))"
   ]
  },
  {
   "cell_type": "markdown",
   "metadata": {},
   "source": [
    "### Using the BFS"
   ]
  },
  {
   "cell_type": "code",
   "execution_count": 3,
   "metadata": {
    "collapsed": false
   },
   "outputs": [
    {
     "data": {
      "text/plain": [
       "\u001b[36mres2\u001b[39m: \u001b[32mList\u001b[39m[\u001b[32mInt\u001b[39m] = \u001b[33mList\u001b[39m(\u001b[32m2\u001b[39m, \u001b[32m1\u001b[39m, \u001b[32m3\u001b[39m, \u001b[32m7\u001b[39m, \u001b[32m6\u001b[39m, \u001b[32m4\u001b[39m, \u001b[32m5\u001b[39m)"
      ]
     },
     "execution_count": 3,
     "metadata": {},
     "output_type": "execute_result"
    }
   ],
   "source": [
    "breadth_first_traverse(two, (n: Node) => n.children).map(_.value).toList"
   ]
  },
  {
   "cell_type": "code",
   "execution_count": 5,
   "metadata": {
    "collapsed": false
   },
   "outputs": [
    {
     "data": {
      "text/plain": [
       "\u001b[36mres4\u001b[39m: \u001b[32mOption\u001b[39m[\u001b[32mInt\u001b[39m] = \u001b[33mSome\u001b[39m(\u001b[32m7\u001b[39m)"
      ]
     },
     "execution_count": 5,
     "metadata": {},
     "output_type": "execute_result"
    }
   ],
   "source": [
    "breadth_first_traverse(two, (n: Node) => n.children) find (_.value > 6) map(_.value)"
   ]
  }
 ],
 "metadata": {
  "kernelspec": {
   "display_name": "Scala",
   "language": "scala",
   "name": "scala"
  },
  "language_info": {
   "codemirror_mode": "text/x-scala",
   "file_extension": ".scala",
   "mimetype": "text/x-scala",
   "name": "scala211",
   "nbconvert_exporter": "scala",
   "pygments_lexer": "scala",
   "version": "2.11.8"
  }
 },
 "nbformat": 4,
 "nbformat_minor": 1
}
