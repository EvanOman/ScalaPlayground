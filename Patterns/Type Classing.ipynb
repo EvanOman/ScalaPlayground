{
 "cells": [
  {
   "cell_type": "code",
   "execution_count": 2,
   "metadata": {
    "collapsed": false
   },
   "outputs": [
    {
     "ename": "",
     "evalue": "",
     "output_type": "error",
     "traceback": [
      "\u001b[31mMain.scala:41: object creation impossible, since method updateX in trait UpdateX of type (a: $user.this.Sub_1, newX: String)$user.this.Sub_1 is not defined",
      "    implicit val Sub1UpdateX = new UpdateX[Sub_1] {",
      "                                   ^\u001b[0m"
     ]
    }
   ],
   "source": [
    "/*\n",
    "    The type annotation here accomplishes the F Bound \n",
    "*/\n",
    "abstract class Super(val name: String, val x: String)\n",
    "{\n",
    "    /* Example abstract method */\n",
    "\tdef identify: Unit\n",
    "}\n",
    "\n",
    "trait UpdateX[A] {\n",
    "  def updateX(a: A, newX: String): A\n",
    "}\n",
    "\n",
    "/* Sub_1 extends Super[Sub_1] */\n",
    "class Sub_1(name: String, x: String) extends Super(name, x)\n",
    "{\n",
    "\tdef identify = println(\"This is a Sub_1 with properties\" +\n",
    "\t\t\ts\"\\n\\tName: ${this.name}\\n\\tData: ${this.x}\")\n",
    "}\n",
    "\n",
    "object Sub_1\n",
    "{\n",
    "    implicit val Sub1UpdateX = new UpdateX[Sub_1] {\n",
    "        def renamed(a: Sub_1, newX: String) = new Sub_1(a.name, newX)\n",
    "    }\n",
    "}"
   ]
  },
  {
   "cell_type": "code",
   "execution_count": 2,
   "metadata": {
    "collapsed": false
   },
   "outputs": [
    {
     "data": {
      "text/plain": [
       "defined \u001b[32mtrait \u001b[36mUpdateX\u001b[0m"
      ]
     },
     "metadata": {},
     "output_type": "display_data"
    }
   ],
   "source": []
  },
  {
   "cell_type": "code",
   "execution_count": null,
   "metadata": {
    "collapsed": true
   },
   "outputs": [],
   "source": []
  }
 ],
 "metadata": {
  "kernelspec": {
   "display_name": "Scala 2.11",
   "language": "scala211",
   "name": "scala211"
  },
  "language_info": {
   "codemirror_mode": "text/x-scala",
   "file_extension": ".scala",
   "mimetype": "text/x-scala",
   "name": "scala211",
   "pygments_lexer": "scala",
   "version": "2.11.8"
  }
 },
 "nbformat": 4,
 "nbformat_minor": 2
}
