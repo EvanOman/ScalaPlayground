{
 "cells": [
  {
   "cell_type": "code",
   "execution_count": 3,
   "metadata": {
    "collapsed": false,
    "deletable": true,
    "editable": true
   },
   "outputs": [
    {
     "name": "stdout",
     "output_type": "stream",
     "text": [
      "I just dequeued 1\n",
      "I just dequeued Two\n",
      "I just dequeued iii\n"
     ]
    },
    {
     "data": {
      "text/plain": [
       "\u001b[36mq0\u001b[0m: \u001b[32mcollection\u001b[0m.\u001b[32mimmutable\u001b[0m.\u001b[32mQueue\u001b[0m[\u001b[32mString\u001b[0m] = \u001b[33mQueue\u001b[0m(\u001b[32m\"1\"\u001b[0m, \u001b[32m\"Two\"\u001b[0m, \u001b[32m\"iii\"\u001b[0m)"
      ]
     },
     "metadata": {},
     "output_type": "display_data"
    }
   ],
   "source": [
    "val q0 = collection.immutable.Queue(\"1\",\"Two\",\"iii\")\n",
    "Iterator.iterate(q0) { qi =>\n",
    "  val (e,q) = qi.dequeue\n",
    "  println(\"I just dequeued \"+e)  // Your side-effecting operations go here\n",
    "  if (e.length!=2) q.enqueue(\"..\")  // Your changes to the queue go here\n",
    "  else q\n",
    "}.take(4).foreach{identity}"
   ]
  },
  {
   "cell_type": "code",
   "execution_count": 4,
   "metadata": {
    "collapsed": false,
    "deletable": true,
    "editable": true
   },
   "outputs": [
    {
     "name": "stdout",
     "output_type": "stream",
     "text": [
      "None1None2None3None4None5None6None7None8None9None10None11"
     ]
    },
    {
     "data": {
      "text/plain": [
       "\u001b[36mi\u001b[0m: \u001b[32mInt\u001b[0m = \u001b[32m11\u001b[0m\n",
       "\u001b[36moot\u001b[0m: \u001b[32mOption\u001b[0m[\u001b[32mInt\u001b[0m] = \u001b[33mSome\u001b[0m(\u001b[32m11\u001b[0m)"
      ]
     },
     "metadata": {},
     "output_type": "display_data"
    }
   ],
   "source": [
    "var i = 0\n",
    "val oot = Iterator.iterate[Option[Int]](None){\n",
    "    prev => {\n",
    "        i = i + 1\n",
    "        print(prev)\n",
    "        print(i)\n",
    "        if (i > 10)\n",
    "        {\n",
    "            Some(i)\n",
    "        }\n",
    "        else\n",
    "        {\n",
    "            None\n",
    "        }\n",
    "    }\n",
    "}.find(_.isDefined).get"
   ]
  },
  {
   "cell_type": "code",
   "execution_count": 6,
   "metadata": {
    "collapsed": false,
    "deletable": true,
    "editable": true
   },
   "outputs": [
    {
     "data": {
      "text/plain": [
       "\u001b[36ma\u001b[0m: \u001b[32mIterator\u001b[0m[\u001b[32mInt\u001b[0m] = non-empty iterator"
      ]
     },
     "metadata": {},
     "output_type": "display_data"
    }
   ],
   "source": [
    "val a = Iterator(1,2,3)"
   ]
  },
  {
   "cell_type": "code",
   "execution_count": null,
   "metadata": {
    "collapsed": true,
    "deletable": true,
    "editable": true
   },
   "outputs": [],
   "source": [
    "a."
   ]
  }
 ],
 "metadata": {
  "kernelspec": {
   "display_name": "Scala 2.11",
   "language": "scala211",
   "name": "scala211"
  },
  "language_info": {
   "codemirror_mode": "text/x-scala",
   "file_extension": ".scala",
   "mimetype": "text/x-scala",
   "name": "scala211",
   "pygments_lexer": "scala",
   "version": "2.11.8"
  }
 },
 "nbformat": 4,
 "nbformat_minor": 2
}
