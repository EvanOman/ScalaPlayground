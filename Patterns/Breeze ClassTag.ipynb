{
 "cells": [
  {
   "cell_type": "code",
   "execution_count": 1,
   "metadata": {
    "collapsed": false
   },
   "outputs": [
    {
     "name": "stdout",
     "output_type": "stream",
     "text": [
      "14 new artifact(s)\n"
     ]
    },
    {
     "name": "stderr",
     "output_type": "stream",
     "text": [
      "14 new artifacts in macro\n",
      "14 new artifacts in runtime\n",
      "14 new artifacts in compile\n"
     ]
    },
    {
     "data": {
      "text/plain": []
     },
     "metadata": {},
     "output_type": "display_data"
    }
   ],
   "source": [
    "/* Import Breeze */\n",
    "\n",
    "classpath.add(\n",
    "  \"org.scalanlp\" %% \"breeze\" % \"0.13\"\n",
    ")"
   ]
  },
  {
   "cell_type": "code",
   "execution_count": 5,
   "metadata": {
    "collapsed": false
   },
   "outputs": [
    {
     "data": {
      "text/plain": [
       "\u001b[32mimport \u001b[36mbreeze.linalg._\u001b[0m\n",
       "\u001b[32mimport \u001b[36mbreeze.storage.Zero\u001b[0m\n",
       "\u001b[32mimport \u001b[36mscala.reflect.ClassTag\u001b[0m"
      ]
     },
     "metadata": {},
     "output_type": "display_data"
    }
   ],
   "source": [
    "import breeze.linalg._\n",
    "import breeze.storage.Zero\n",
    "import scala.reflect.ClassTag"
   ]
  },
  {
   "cell_type": "code",
   "execution_count": 4,
   "metadata": {
    "collapsed": false
   },
   "outputs": [
    {
     "data": {
      "text/plain": [
       "\u001b[36ma\u001b[0m: \u001b[32mDenseMatrix\u001b[0m[\u001b[32mDouble\u001b[0m] = 1.0  0.0  0.0  0.0  \n",
       "0.0  2.0  0.0  0.0  \n",
       "0.0  0.0  3.0  0.0  \n",
       "0.0  0.0  0.0  5.0  "
      ]
     },
     "metadata": {},
     "output_type": "display_data"
    }
   ],
   "source": [
    "val a = diag(DenseVector(1.0,2.0,3.0,5.0))"
   ]
  },
  {
   "cell_type": "markdown",
   "metadata": {},
   "source": [
    "### My Custom `repVec` Method"
   ]
  },
  {
   "cell_type": "code",
   "execution_count": 6,
   "metadata": {
    "collapsed": false
   },
   "outputs": [
    {
     "data": {
      "text/plain": [
       "defined \u001b[32mfunction \u001b[36mrepVec\u001b[0m"
      ]
     },
     "metadata": {},
     "output_type": "display_data"
    }
   ],
   "source": [
    "def repVec[T:ClassTag:Zero](in: DenseVector[T], nRow: Int): DenseMatrix[T] =\n",
    "{\n",
    "    DenseMatrix.tabulate[T](nRow, in.size)({case (_, j) => in(j)})\n",
    "}"
   ]
  },
  {
   "cell_type": "code",
   "execution_count": 7,
   "metadata": {
    "collapsed": false
   },
   "outputs": [
    {
     "data": {
      "text/plain": [
       "\u001b[36mb\u001b[0m: \u001b[32mDenseMatrix\u001b[0m[\u001b[32mDouble\u001b[0m] = 1.0  2.0  3.0  5.0  \n",
       "1.0  2.0  3.0  5.0  \n",
       "1.0  2.0  3.0  5.0  \n",
       "1.0  2.0  3.0  5.0  \n",
       "1.0  2.0  3.0  5.0  "
      ]
     },
     "metadata": {},
     "output_type": "display_data"
    }
   ],
   "source": [
    "val b = repVec(DenseVector(1.0,2.0,3.0,5.0), 5)"
   ]
  }
 ],
 "metadata": {
  "kernelspec": {
   "display_name": "Scala 2.11",
   "language": "scala211",
   "name": "scala211"
  },
  "language_info": {
   "codemirror_mode": "text/x-scala",
   "file_extension": ".scala",
   "mimetype": "text/x-scala",
   "name": "scala211",
   "pygments_lexer": "scala",
   "version": "2.11.8"
  }
 },
 "nbformat": 4,
 "nbformat_minor": 1
}
