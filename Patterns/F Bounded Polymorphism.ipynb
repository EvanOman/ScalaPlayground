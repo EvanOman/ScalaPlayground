{
 "cells": [
  {
   "cell_type": "markdown",
   "metadata": {
    "deletable": true,
    "editable": true
   },
   "source": [
    "### $F$ Bounded Polymorphism\n",
    "\n",
    "In Scala you need to use $F$ Bounded Polymorphism to have a super class return the type of the subclass"
   ]
  },
  {
   "cell_type": "code",
   "execution_count": 1,
   "metadata": {
    "collapsed": false,
    "deletable": true,
    "editable": true
   },
   "outputs": [
    {
     "data": {
      "text/plain": [
       "defined \u001b[32mclass\u001b[39m \u001b[36mSuper\u001b[39m\n",
       "defined \u001b[32mclass\u001b[39m \u001b[36mSub_1\u001b[39m\n",
       "defined \u001b[32mclass\u001b[39m \u001b[36mSub_2\u001b[39m"
      ]
     },
     "execution_count": 1,
     "metadata": {},
     "output_type": "execute_result"
    }
   ],
   "source": [
    "/*\n",
    "    The type annotation here accomplishes the F Bound \n",
    "*/\n",
    "abstract class Super[T <: Super[T]](val name: String, val x: String)\n",
    "{\n",
    "    /* Bullshit constructor shadow that every subclass will implement */\n",
    "\tdef mkT(name: String, x: String): T\n",
    "\n",
    "    /* Example abstract method */\n",
    "\tdef identify: Unit\n",
    "\n",
    "    /* Method which returns the polymorphic type */\n",
    "\tdef updateX(newX: String): T = mkT(this.name, newX)\n",
    "}\n",
    "\n",
    "/* Sub_1 extends Super[Sub_1] */\n",
    "class Sub_1(name: String, x: String) extends Super[Sub_1](name, x)\n",
    "{\n",
    "    /* Bullshit constructor shadow */\n",
    "\tdef mkT(name: String, x: String) : Sub_1 = new Sub_1(name, x)\n",
    "\n",
    "\tdef identify = println(\"This is a Sub_1 with properties\" +\n",
    "\t\t\ts\"\\n\\tName: ${this.name}\\n\\tData: ${this.x}\")\n",
    "}\n",
    "\n",
    "\n",
    "/* Sub_2 extends Super[Sub_2] */\n",
    "class Sub_2(name: String, x: String) extends Super[Sub_2](name, x)\n",
    "{\n",
    "    /* Bullshit constructor shadow */\n",
    "\tdef mkT(name: String, x: String) : Sub_2 = new Sub_2(name, x)\n",
    "\n",
    "\tdef identify = println(\"This is a Sub_2 with properties\" +\n",
    "\t\t\ts\"\\n\\tName: ${this.name}\\n\\tData: ${this.x}\")\n",
    "}"
   ]
  },
  {
   "cell_type": "markdown",
   "metadata": {
    "deletable": true,
    "editable": true
   },
   "source": [
    "### Example Usage"
   ]
  },
  {
   "cell_type": "code",
   "execution_count": 2,
   "metadata": {
    "collapsed": false,
    "deletable": true,
    "editable": true
   },
   "outputs": [
    {
     "name": "stdout",
     "output_type": "stream",
     "text": [
      "This is a Sub_1 with properties\n",
      "\tName: sub1\n",
      "\tData: original data\n"
     ]
    },
    {
     "data": {
      "text/plain": [
       "\u001b[36ms1\u001b[39m: \u001b[32mSub_1\u001b[39m = $sess.cmd0Wrapper$Helper$Sub_1@33a8b8bc"
      ]
     },
     "execution_count": 2,
     "metadata": {},
     "output_type": "execute_result"
    }
   ],
   "source": [
    "val s1 = new Sub_1(\"sub1\", \"original data\")\n",
    "s1.identify"
   ]
  },
  {
   "cell_type": "code",
   "execution_count": 3,
   "metadata": {
    "collapsed": false,
    "deletable": true,
    "editable": true
   },
   "outputs": [
    {
     "name": "stdout",
     "output_type": "stream",
     "text": [
      "This is a Sub_1 with properties\n",
      "\tName: sub1\n",
      "\tData: new data\n"
     ]
    },
    {
     "data": {
      "text/plain": [
       "\u001b[36ms2\u001b[39m: \u001b[32mSub_1\u001b[39m = $sess.cmd0Wrapper$Helper$Sub_1@4e553b66"
      ]
     },
     "execution_count": 3,
     "metadata": {},
     "output_type": "execute_result"
    }
   ],
   "source": [
    "val s2: Sub_1 = s1.updateX(\"new data\")\n",
    "s2.identify"
   ]
  },
  {
   "cell_type": "markdown",
   "metadata": {
    "deletable": true,
    "editable": true
   },
   "source": [
    "### The polymorphism works!!"
   ]
  },
  {
   "cell_type": "code",
   "execution_count": 4,
   "metadata": {
    "collapsed": false
   },
   "outputs": [
    {
     "data": {
      "text/plain": [
       "\u001b[36ml\u001b[39m: \u001b[32mList\u001b[39m[\u001b[32m_\u001b[39m] = \u001b[33mList\u001b[39m(\n",
       "  $sess.cmd0Wrapper$Helper$Sub_1@33a8b8bc,\n",
       "  $sess.cmd0Wrapper$Helper$Sub_1@4e553b66,\n",
       "  $sess.cmd0Wrapper$Helper$Sub_2@4cfe235e\n",
       ")"
      ]
     },
     "execution_count": 4,
     "metadata": {},
     "output_type": "execute_result"
    }
   ],
   "source": [
    "val l: List[_ <: Super[_]] = List(s1, s2, new Sub_2(\"sub2\", \"dat\"))"
   ]
  }
 ],
 "metadata": {
  "kernelspec": {
   "display_name": "Scala",
   "language": "scala",
   "name": "scala"
  },
  "language_info": {
   "codemirror_mode": "text/x-scala",
   "file_extension": ".scala",
   "mimetype": "text/x-scala",
   "name": "scala211",
   "nbconvert_exporter": "scala",
   "pygments_lexer": "scala",
   "version": "2.11.8"
  }
 },
 "nbformat": 4,
 "nbformat_minor": 1
}
